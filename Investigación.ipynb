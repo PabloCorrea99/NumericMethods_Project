{
 "cells": [
  {
   "cell_type": "markdown",
   "metadata": {},
   "source": [
    "<p float=\"center\">\n",
    "  <img src=\"https://github.com/carlosalvarezh/Analisis_Numerico/blob/master/images/C00_Img00_logo.png?raw=true\" width=\"350\" />\n",
    "</p>\n",
    "<h1 align=\"center\">Implementación Métodos Numéricos de Jacobi y Gauss-Seidel Usando High Performance Computing</h1>\n",
    "<h2 align=\"center\">Por: Pablo Correa, Santiago Pulgarin, Ricardo Saldarriaga</h2>\n",
    "<h2 align=\"center\">18 de mayo, 2021</h2>\n",
    "<h2 align=\"center\">Universidad EAFIT</h2>\n",
    "<h2 align=\"center\">MEDELLÍN - COLOMBIA </h2>"
   ]
  },
  {
   "cell_type": "markdown",
   "metadata": {},
   "source": [
    "<h2>Introducción</h2>\n",
    "<p>Hoy en día estamos acostumbrados a que todo esté al alcance de un click y que todo sea rápido. De allí, que la tecnología todos los días está evolucionando para ser más eficiente y más útil para todas las personas. Uno de esos aspectos de eficiencia, está en que se necesitan tiempos de respuesta muy rápidos para muchas de las operaciones que realizamos con nuestros dispositivos día a día. Una de las estrategias que se utilizan para lograr esta eficiencia es la computación de alto rendimiento (HPC, por sus siglas en inglés). Para contextualizar un poco: \"<i>La computación de alto rendimiento (high-performance computing o HPC en inglés) implica usar la potencia de cálculo para resolver problemas complejos en ciencia, ingeniería y gestión. Para lograr este objetivo, la computación de alto rendimiento se apoya en tecnologías computacionales como los clusters, los supercomputadores o la computación paralela. La mayoría de las ideas actuales de la computación distribuida se han basado en la computación de alto rendimiento.</i>\" (Wikipedia, 2020).</p>\n"
   ]
  },
  {
   "source": [
    "<h2>Objetivos</h2>\n",
    "<p>Siguiendo la definición de la introduccion, este proyecto tiene como objetivo hacer uso del HPC para implementar dos metodos numericos para la resolución de sistemas de ecuaciones lineales: El metodo de Jacobi y el metodo de Gauss-Seidel. Esta implementación se realizara en 3 lenguajes de programnación diferentes, esto con el objetivo de probar la eficiencia de cada uno de estos. Dichos lenguajes son: \n",
    "<ul>\n",
    "    <li>Python</li>\n",
    "    <li>C#</li>\n",
    "    <li>Julia</li>\n",
    "</ul></p>\n"
   ],
   "cell_type": "markdown",
   "metadata": {}
  },
  {
   "cell_type": "markdown",
   "metadata": {},
   "source": [
    "<h2>Marco Teorico</h2>\n",
    "<h3>Método de Jacobi</h3>\n",
    "<p>En algebra lineal, el método de Jacobi es un algoritmo iterativo para determinar las soluciones a un sistema de ecuaciones lineales.<a href=\"https://en.wikipedia.org/wiki/Diagonally_dominant_matrix\">Estrictamente Diagonalmente Dominante</a>. De este, surge el siguiente esquema:</p>\n",
    "<br>\n",
    "$$x_i^{(k)}=\\frac{1}{a_{ii}} \\left(b_i-\\sum \\limits_{\\substack{j=1 \\\\ j\\ne i}}^n a_{i,j}x_j^{(k-1)} \\right) \\text{, con } i=1,2,3,..., n$$\n",
    "<br>\n",
    "<p>donde el superíndice $k$ indica la iteración. En el método de <strong>Jacobi</strong>, para encontrar el valor de cada $x_i^{k}$ se usan los valores de $x$ calculados en la iteración anterior, $k-1$. Por lo que es necesario siempre tener esos valores anteriores almacenados.</p>"
   ]
  },
  {
   "cell_type": "markdown",
   "metadata": {},
   "source": [
    "<h5>Algoritmo</h5><br>\n",
    "<div style=\"background-color:rgba(0, 0, 0, 0.0470588); padding:10px 0;font-family:monospace;\">\n",
    "<i>pseudocodigo</i><br>\n",
    "<font color = \"black\"><strong>Entrada:</strong> Vector inicial $x^{(0)}$, número máximo de iteraciones ($kmax$), Matriz Diagonalmente Dominante $A$, vector independiente $b$, criterio de convergencia y tolerancia.</font><br>\n",
    "<font color = \"black\"><strong>Salida:</strong> Solución cuando la convergenccia es encontrada.</font><br>\n",
    "<br>\n",
    "<font color = \"blue\">$k=0$</font><br>\n",
    "$mientras$ no haya convergencia $haga$:<br>\n",
    "&nbsp;&nbsp;&nbsp;&nbsp; desde <font color = \"red\">$i=1$ hasta $n$ </font>haga:<br>\n",
    "&nbsp;&nbsp;&nbsp;&nbsp;&nbsp;&nbsp;&nbsp;&nbsp; <font color = \"blue\">$suma = 0$</font><br>\n",
    "&nbsp;&nbsp;&nbsp;&nbsp;&nbsp;&nbsp;&nbsp;&nbsp; desde <font color = \"red\">$j=1$ hasta $n$ </font>haga:<br>\n",
    "&nbsp;&nbsp;&nbsp;&nbsp;&nbsp;&nbsp;&nbsp;&nbsp;&nbsp;&nbsp;&nbsp;&nbsp; si <font color = \"red\">$j \\neq i$ </font>entonces:<br>\n",
    "&nbsp;&nbsp;&nbsp;&nbsp;&nbsp;&nbsp;&nbsp;&nbsp;&nbsp;&nbsp;&nbsp;&nbsp;&nbsp;&nbsp;&nbsp;&nbsp; <font color = \"blue\">$suma = suma + a_{i,j}x_j^{(k)}$</font><br>\n",
    "&nbsp;&nbsp;&nbsp;&nbsp;&nbsp;&nbsp;&nbsp;&nbsp;&nbsp;&nbsp;&nbsp;&nbsp; fin si <br>\n",
    "&nbsp;&nbsp;&nbsp;&nbsp;&nbsp;&nbsp;&nbsp;&nbsp; fin desde <br>\n",
    "&nbsp;&nbsp;&nbsp;&nbsp;&nbsp;&nbsp;&nbsp;&nbsp; <font color = \"blue\">$x_i^{(k+1)} = \\frac{1}{a_{i,i}}(b_i - suma)$</font><br>\n",
    "&nbsp;&nbsp;&nbsp;&nbsp; fin desde <br>     \n",
    "&nbsp;&nbsp;&nbsp;&nbsp; <font color = \"blue\">$k=k+1$</font><br>\n",
    "fin mientras <br>     \n",
    "</div>"
   ]
  },
  {
   "cell_type": "markdown",
   "metadata": {},
   "source": [
    "<h5>Convergencia</h5>\n",
    "<p>La condición de convergencia estandar (para todos los métodos iterativos) es cuando el <a href=\\\"https://en.wikipedia.org/wiki/Spectral_radius\\\">Radio Espectral</a> de la matriz de iteración es menor a 1:</p>\n",
    "<img src=\"https://wikimedia.org/api/rest_v1/media/math/render/svg/55a84dfad167d6872e52ce5b8f8cacb46c06b719\" class=\"mwe-math-fallback-image-inline\" aria-hidden=\"true\" style=\"vertical-align: -0.838ex; width:20.191ex; height:3.176ex;\" alt=\"{\\\\displaystyle \\\\rho (D^{-1}(L+U))<1.}\">\n",
    "<p> Tambien se deben cumplir las siguientes cotas para el error de la aproximación actual con respecto a la solución del sistema: \n",
    "    $$\\|\\mathbf{x}_v-\\mathbf{x}^{(k)}\\| \\leq \\|\\mathbf{T}\\|^{(k)} \\|\\mathbf{x}_v-\\mathbf{x}^{(0)}\\| \\hspace{1.5cm} \\|\\mathbf{x}_v-\\mathbf{x}^{(k)}\\| \\leq \\frac{\\|\\mathbf{T}\\|^{(k)} \\|}{1-\\|\\mathbf{T}\\|} \\| \\mathbf{x}^{(1)}-\\mathbf{x}^{(0)}\\|$$"
   ]
  },
  {
   "cell_type": "markdown",
   "metadata": {},
   "source": [
    "<h3>Método de Gauss-Seidel</h3>\n",
    "<p>Tambien conocido como el método Liebmann, es un método iterativo que se usa para resolver sistemas de ecuaciones lineales. Es similar al método de Jacobi, aunque puede ser aplicado a cualquier matriz que no tenga elementos 0 en sus diagonales. Ademas, en el método de Gauss-Seidel se usan los valores ya calculados en la iteración actual. Con lo cual ya presenta una mejora a Jacobi. De este método resulta el siguiente esquema:</p>\n",
    "<img src=\"https://wikimedia.org/api/rest_v1/media/math/render/svg/02f26444f4da61ae84a9824a6b5292949a483fcc\" />"
   ]
  },
  {
   "cell_type": "markdown",
   "metadata": {},
   "source": [
    "<h5>Algoritmo</h5><br>\n",
    "<div style=\"background-color:rgba(0, 0, 0, 0.0470588); padding:10px 0;font-family:monospace;\">\n",
    "<i>pseudocodigo</i><br>\n",
    "<font color = \"black\"><strong>Entrada:</strong>Matriz $A$, vector independiente $b$</font><br>\n",
    "<font color = \"black\"><strong>Salida:</strong> Solución cuando la convergenccia es encontrada.</font><br>\n",
    "<br>\n",
    "<font color = \"blue\">$k=valor para la convergencia$</font><br>\n",
    "$mientras$ no haya convergencia $haga$:<br>\n",
    "&nbsp;&nbsp;&nbsp;&nbsp; desde <font color = \"red\">$i=1$ hasta $n$ </font>haga:<br>\n",
    "&nbsp;&nbsp;&nbsp;&nbsp;&nbsp;&nbsp;&nbsp;&nbsp; <font color = \"blue\">$suma = 0$</font><br>\n",
    "&nbsp;&nbsp;&nbsp;&nbsp;&nbsp;&nbsp;&nbsp;&nbsp; desde <font color = \"red\">$j=1$ hasta $n$ </font>haga:<br>\n",
    "&nbsp;&nbsp;&nbsp;&nbsp;&nbsp;&nbsp;&nbsp;&nbsp;&nbsp;&nbsp;&nbsp;&nbsp; si <font color = \"red\">$j \\neq i$ </font>entonces:<br>\n",
    "&nbsp;&nbsp;&nbsp;&nbsp;&nbsp;&nbsp;&nbsp;&nbsp;&nbsp;&nbsp;&nbsp;&nbsp;&nbsp;&nbsp;&nbsp;&nbsp; <font color = \"blue\">$suma = suma + a_{i,j}x_j^{(k)}$</font><br>\n",
    "&nbsp;&nbsp;&nbsp;&nbsp;&nbsp;&nbsp;&nbsp;&nbsp;&nbsp;&nbsp;&nbsp;&nbsp; fin si <br>\n",
    "&nbsp;&nbsp;&nbsp;&nbsp;&nbsp;&nbsp;&nbsp;&nbsp; fin desde <br>\n",
    "&nbsp;&nbsp;&nbsp;&nbsp;&nbsp;&nbsp;&nbsp;&nbsp; <font color = \"blue\">$x_i^{(k+1)} = \\frac{1}{a_{i,i}}(b_i - suma)$</font><br>\n",
    "&nbsp;&nbsp;&nbsp;&nbsp; fin desde <br>     \n",
    "&nbsp;&nbsp;&nbsp;&nbsp; <font color = \"blue\">$k=k+1$</font><br>\n",
    "fin mientras <br>     \n",
    "</div>"
   ]
  },
  {
   "cell_type": "markdown",
   "metadata": {},
   "source": [
    "<h5>Convergencia</h5>\n",
    "<p>La convergencia del método depende de la matriz A. Este converge si alguna de las dos condiciones se cumple:</p>\n",
    "<ul>\n",
    "    <li>A es simetrica definida-positiva</li>\n",
    "    <li>A es estrictamente diagonalmente dominante</li>\n",
    "</ul>\n",
    "<p><strong>Nota:</strong><i> En algunas ocasiones el método puede converger si aunque estas condiciones no se cumplen.</i></p>"
   ]
  },
  {
   "cell_type": "markdown",
   "metadata": {},
   "source": [
    "<h3>Nota sobre la forma matricial de los métodos iterativos</h3>\n",
    "<p>\n",
    "La matriz de coeficientes $\\mathbf{A}$ se puede expresar como:\n",
    "\n",
    "$$\\mathbf{A=D-L-U}$$\n",
    "donde,\n",
    "\n",
    "$\\mathbf{D}$: es una matriz que contiene únicamente los elementos de la diagonal principal $\\mathbf{A}$\n",
    "\n",
    "$\\mathbf{L}$: contiene los inversos aditivos de los elementos que están por debajo de la diagonal principal de $\\mathbf{A}$, y los demás elementos cero, $0$.\n",
    "\n",
    "$\\mathbf{U}$: contiene los inversos aditivos de los elementos que están por encima de la diagonal principal de $\\mathbf{A}$, y los demás elementos cero, $0$.</p>\n",
    "<p>Con esto anterior $\\mathbf{Ax=b}$ puede transformarse de la siguiente manera:</p>\n",
    "<img src=\"https://camo.githubusercontent.com/ae2fd54c8c0011065e57eba745645b4b87228130/68747470733a2f2f6769746875622e636f6d2f6361726c6f73616c766172657a682f416e616c697369735f4e756d657269636f2f626c6f622f6d61737465722f696d616765732f4330335f496d673137615f4974657261746976652e504e473f7261773d74727565\">\n",
    "<p>Ambas expresiones presentan la forma $\\mathbf{x=Tx+C}$.\n",
    "donde:\n",
    "\n",
    "$\\mathbf{T}$: Matriz de iteración\n",
    "\n",
    "$\\mathbf{C}$: vector constante\n",
    "\n",
    "$\\mathbf{x}^{(k)}$: $k$-ésima aproximación del vector solución $\\mathbf{x}$</p>"
   ]
  },
  {
   "source": [
    "<h2>C#</h2>\n",
    "<p>C# fue el lenguaje que usamos para crear un metodo que nos creara un vector y una <a href=\"https://es.wikipedia.org/wiki/Matriz_de_diagonal_estrictamente_dominante\"> matriz estrictamente diagonalmente dominante</a> y se guardaran en un archivo .txt que son separadas por comas (,) y saltos de linea por cada fila</p>\n",
    "<h3>Jacobi</h3>\n",
    "<p>Al usar el metodo de Jacobi, realizado con la definicion <a href=\"https://en.wikipedia.org/wiki/Jacobi_method\"> Jacobi </a> del pseudocodigo y teniendo en cuenta que la matriz dada debe ser estrictamente diagonalmente dominante creamos su respectivo metodo en C#, ademas de agregarle otros parametros, como lo son la cantidad de iteraciones a hacer y si quiere ver el resultado para cada iteracion o solo la ultima (siendo la ultima iteracion o en la que para por criterio de convergencia por error) en este algoritmo solo se usan librerias para poder crear matr</p>\n",
    "<h4>Jacobi Paralelo</h4>\n",
    "<p>Aplicar \"paralelismo\" a Jacobi se hace de manera sencilla ya que es un metodo naturalmente paralelisable debido a como se resuelve su algoritmo, el paralelismo es aplicado al hacer una distribucion de las columnas, ya que para cada iteracion a cada hilo se le dan un numero de columnas y estas resuelven sus respectivas columnas para al final tener el resultado completo</p>"
   ],
   "cell_type": "markdown",
   "metadata": {}
  },
  {
   "cell_type": "markdown",
   "metadata": {},
   "source": [
    "<h2>Referencias:</h2>\n",
    "<ol>\n",
    "    <li>https://es.wikipedia.org/wiki/Computaci%C3%B3n_de_alto_rendimiento</li>\n",
    "    <li>https://en.wikipedia.org/wiki/Jacobi_method</li>\n",
    "    <li>https://en.wikipedia.org/wiki/Diagonally_dominant_matrix</li>               <li>https://en.wikipedia.org/wiki/Gauss%E2%80%93Seidel_method</li>\n",
    "    <li>https://numpy.org/devdocs</li>\n",
    "</ol>"
   ]
  },
  {
   "cell_type": "code",
   "execution_count": null,
   "metadata": {},
   "outputs": [],
   "source": []
  }
 ],
 "metadata": {
  "kernelspec": {
   "name": "python385jvsc74a57bd05f6c10c60de62843dc081b03eee6c66e3cd973187366879027e60b56edf49fc4",
   "display_name": "Python 3.8.5 64-bit ('base': conda)"
  },
  "language_info": {
   "codemirror_mode": {
    "name": "ipython",
    "version": 3
   },
   "file_extension": ".py",
   "mimetype": "text/x-python",
   "name": "python",
   "nbconvert_exporter": "python",
   "pygments_lexer": "ipython3",
   "version": "3.8.5"
  }
 },
 "nbformat": 4,
 "nbformat_minor": 2
}